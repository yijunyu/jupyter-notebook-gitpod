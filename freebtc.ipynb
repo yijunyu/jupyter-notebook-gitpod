{
 "cells": [
  {
   "cell_type": "code",
   "execution_count": 3,
   "metadata": {},
   "outputs": [
    {
     "name": "stdout",
     "output_type": "stream",
     "text": [
      "0.99\n"
     ]
    }
   ],
   "source": [
    "#Problem: see https://github.com/yijunyu/regular-invest-maths/blob/master/Mixin_BTC-v1.0.pdf\n",
    "# \n",
    "import matplotlib.pyplot as plt\n",
    "import numpy as np\n",
    "import math\n",
    "\n",
    "prize = 0.000001 # 100 satoshi\n",
    "pool = 1000 # amount of BTC in the intial pool\n",
    "no_participants = 100000 # number of participants initially\n",
    "p1 = 0.99 # probability of continue taking the prize\n",
    "\n",
    "print(p1)\n",
    "\n",
    "# def count(n,e,cost): #<---- Actual count of elves\n",
    "#   m=0 #Starting money\n",
    "\n",
    "#   for i in range(n):\n",
    "#     m+=e*income\n",
    "#     e+=m//cost\n",
    "#     m-=cost*(m//cost)\n",
    "#   return e\n",
    "\n",
    "# def f(z): #<---- Estimated function.\n",
    "#   return e*(1+income/cost)**z\n",
    "\n",
    "# #Generating graph\n",
    "# graph=[]\n",
    "# for i in range(100):\n",
    "#   graph.append(count(i,e,cost))\n",
    "# #print(count(i,e,cost))\n",
    "\n",
    "# #Plotting graph\n",
    "# x=np.arange(0, 100, 1)\n",
    "# plt.plot(x,f(x),'b',graph,'g')\n",
    "# plt.ylabel(\"Elves\")\n",
    "# plt.xlabel(\"Day\")\n",
    "# plt.legend(['Estimate','Actual'])"
   ]
  },
  {
   "cell_type": "code",
   "execution_count": null,
   "metadata": {},
   "outputs": [],
   "source": []
  }
 ],
 "metadata": {
  "kernelspec": {
   "display_name": "Python 3",
   "language": "python",
   "name": "python3"
  },
  "language_info": {
   "codemirror_mode": {
    "name": "ipython",
    "version": 3
   },
   "file_extension": ".py",
   "mimetype": "text/x-python",
   "name": "python",
   "nbconvert_exporter": "python",
   "pygments_lexer": "ipython3",
   "version": "3.7.4"
  }
 },
 "nbformat": 4,
 "nbformat_minor": 2
}
